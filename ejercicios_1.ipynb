{
 "cells": [
  {
   "cell_type": "markdown",
   "metadata": {},
   "source": [
    "# Ejercicios:"
   ]
  },
  {
   "cell_type": "code",
   "execution_count": null,
   "metadata": {},
   "outputs": [],
   "source": [
    "import ttg"
   ]
  },
  {
   "cell_type": "code",
   "execution_count": null,
   "metadata": {},
   "outputs": [],
   "source": [
    "def traduccion(valuation):\n",
    "    if valuation == \"Contingency\":\n",
    "        return \"Proposición empírica\"\n",
    "    elif valuation == \"Tautology\":\n",
    "        return \"Tautología\"\n",
    "    elif valuation == \"Contradiction\":\n",
    "        return \"Contradicción\""
   ]
  },
  {
   "cell_type": "markdown",
   "metadata": {},
   "source": [
    "### Ejercicio 1:\n",
    "\n",
    "`p ^ q`"
   ]
  },
  {
   "cell_type": "code",
   "execution_count": null,
   "metadata": {},
   "outputs": [],
   "source": [
    "truth_table = ttg.Truths(['p', 'q'], ['p and q'])\n",
    "evaluacion = traduccion(truth_table.valuation())\n",
    "print(f\"{truth_table}\\nLa siguiente tabla es: {evaluacion}\")"
   ]
  },
  {
   "cell_type": "markdown",
   "metadata": {},
   "source": [
    "### Ejercicio 2:\n",
    "`(p ^ q) ^ r`"
   ]
  },
  {
   "cell_type": "code",
   "execution_count": null,
   "metadata": {},
   "outputs": [],
   "source": [
    "truth_table = ttg.Truths(['p', 'q', 'r'], ['(p and q) and r'])\n",
    "evaluacion = traduccion(truth_table.valuation())\n",
    "print(f\"{truth_table}\\nLa siguiente tabla es: {evaluacion}\")"
   ]
  },
  {
   "cell_type": "markdown",
   "metadata": {},
   "source": [
    "### Ejercicio 3\n",
    "`¬(p -> q) ^ (p ^ ¬q)`"
   ]
  },
  {
   "cell_type": "code",
   "execution_count": null,
   "metadata": {},
   "outputs": [],
   "source": [
    "truth_table = ttg.Truths(['p', 'q'], ['~(p implies ~q) and (p and ~q)'])\n",
    "evaluacion = traduccion(truth_table.valuation())\n",
    "print(f\"{truth_table}\\nLa siguiente tabla es: {evaluacion}\")"
   ]
  },
  {
   "cell_type": "markdown",
   "metadata": {},
   "source": [
    "### Ejercicio 4\n",
    "`(p ^ q) v (p v ¬q)`"
   ]
  },
  {
   "cell_type": "code",
   "execution_count": null,
   "metadata": {},
   "outputs": [],
   "source": [
    "truth_table = ttg.Truths(['p', 'q'], ['(p and q) or (p or ~q)'])\n",
    "evaluacion = traduccion(truth_table.valuation())\n",
    "print(f\"{truth_table}\\nLa siguiente tabla es: {evaluacion}\")"
   ]
  },
  {
   "cell_type": "markdown",
   "metadata": {},
   "source": [
    "### Ejercicio 5\n",
    "`p ^ q ^ r`"
   ]
  },
  {
   "cell_type": "code",
   "execution_count": null,
   "metadata": {},
   "outputs": [],
   "source": [
    "truth_table = ttg.Truths(['p', 'q', 'r'], ['p and q and r'])\n",
    "evaluacion = traduccion(truth_table.valuation())\n",
    "print(f\"{truth_table}\\nLa siguiente tabla es: {evaluacion}\")\n"
   ]
  },
  {
   "cell_type": "markdown",
   "metadata": {},
   "source": [
    "### Ejercicio 6\n",
    "\n",
    "`¬(p ^ ¬q) ^ (p ^ ¬q)`"
   ]
  },
  {
   "cell_type": "code",
   "execution_count": null,
   "metadata": {},
   "outputs": [],
   "source": [
    "truth_table = ttg.Truths(['p', 'q'], ['~(p and ~q) and (p and ~q)'])\n",
    "evaluacion = traduccion(truth_table.valuation())\n",
    "print(f\"{truth_table}\\nLa siguiente tabla es: {evaluacion}\")"
   ]
  },
  {
   "cell_type": "markdown",
   "metadata": {},
   "source": [
    "### Ejercicio 7\n",
    "`¬¬(¬p ^ ¬q) v (p ^ ¬q)`"
   ]
  },
  {
   "cell_type": "code",
   "execution_count": null,
   "metadata": {},
   "outputs": [],
   "source": [
    "truth_table = ttg.Truths(['p', 'q'], ['~(~(~p and ~q)) or (p and ~q)'])\n",
    "evaluacion = traduccion(truth_table.valuation())\n",
    "print(f\"{truth_table}\\nLa siguiente tabla es: {evaluacion}\")"
   ]
  },
  {
   "cell_type": "markdown",
   "metadata": {},
   "source": [
    "### Ejercicio 8\n",
    "`p v q ^ r`"
   ]
  },
  {
   "cell_type": "code",
   "execution_count": null,
   "metadata": {},
   "outputs": [],
   "source": [
    "truth_table = ttg.Truths(['p', 'q', 'r'], ['p or q and r'])\n",
    "evaluacion = traduccion(truth_table.valuation())\n",
    "print(f\"{truth_table}\\nLa siguiente tabla es: {evaluacion}\")"
   ]
  },
  {
   "cell_type": "markdown",
   "metadata": {},
   "source": [
    "### Ejercicio 9\n",
    "`¬(¬p ^ ¬q) ^ (¬p ^ ¬q)`"
   ]
  },
  {
   "cell_type": "code",
   "execution_count": null,
   "metadata": {},
   "outputs": [],
   "source": [
    "truth_table = ttg.Truths(['p', 'q'], ['~(~p and ~q) and (~p and ~q)'])\n",
    "evaluacion = traduccion(truth_table.valuation())\n",
    "print(f\"{truth_table}\\nLa siguiente tabla es: {evaluacion}\")"
   ]
  },
  {
   "cell_type": "markdown",
   "metadata": {},
   "source": [
    "### Ejercicio 10\n",
    "`p v q ^ ¬r`"
   ]
  },
  {
   "cell_type": "code",
   "execution_count": null,
   "metadata": {},
   "outputs": [],
   "source": [
    "truth_table = ttg.Truths(['p', 'q', 'r'], ['p or q and ~r'])\n",
    "evaluacion = traduccion(truth_table.valuation())\n",
    "print(f\"{truth_table}\\nLa siguiente tabla es: {evaluacion}\")"
   ]
  },
  {
   "cell_type": "markdown",
   "metadata": {},
   "source": [
    "### Ejercicio 11\n",
    "`p ^ q -> r`"
   ]
  },
  {
   "cell_type": "code",
   "execution_count": null,
   "metadata": {},
   "outputs": [],
   "source": [
    "truth_table = ttg.Truths(['p', 'q', 'r'], ['p and q implies r'])\n",
    "evaluacion = traduccion(truth_table.valuation())\n",
    "print(f\"{truth_table}\\nLa siguiente tabla es: {evaluacion}\")"
   ]
  },
  {
   "cell_type": "markdown",
   "metadata": {},
   "source": [
    "### Ejercicio 12\n",
    "`p ^ q -> ¬r`"
   ]
  },
  {
   "cell_type": "code",
   "execution_count": null,
   "metadata": {},
   "outputs": [],
   "source": [
    "truth_table = ttg.Truths(['p', 'q', 'r'], ['p and q implies ~r'])\n",
    "evaluacion = traduccion(truth_table.valuation())\n",
    "print(f\"{truth_table}\\nLa siguiente tabla es: {evaluacion}\")"
   ]
  },
  {
   "cell_type": "markdown",
   "metadata": {},
   "source": [
    "### Ejercicio 13\n",
    "`p <-> ¬p`"
   ]
  },
  {
   "cell_type": "code",
   "execution_count": null,
   "metadata": {},
   "outputs": [],
   "source": [
    "truth_table = ttg.Truths(['p'], ['p = ~p'])\n",
    "evaluacion = traduccion(truth_table.valuation())\n",
    "print(f\"{truth_table}\\nLa siguiente tabla es: {evaluacion}\")"
   ]
  },
  {
   "cell_type": "markdown",
   "metadata": {},
   "source": [
    "### Ejercicio 14\n",
    "`¬(p ^ ¬q) ^ (p ^ ¬q)`"
   ]
  },
  {
   "cell_type": "code",
   "execution_count": null,
   "metadata": {},
   "outputs": [],
   "source": [
    "truth_table = ttg.Truths(['p', 'q'], ['~(p and ~q) and (p and ~q)'])\n",
    "evaluacion = traduccion(truth_table.valuation())\n",
    "print(f\"{truth_table}\\nLa siguiente tabla es: {evaluacion}\")"
   ]
  },
  {
   "cell_type": "markdown",
   "metadata": {},
   "source": [
    "### Ejercicio 15\n",
    "`¬¬p v ¬¬q`"
   ]
  },
  {
   "cell_type": "code",
   "execution_count": null,
   "metadata": {},
   "outputs": [],
   "source": [
    "truth_table = ttg.Truths(['p', 'q'], ['~(~p) or ~(~q)'])\n",
    "evaluacion = traduccion(truth_table.valuation())\n",
    "print(f\"{truth_table}\\nLa siguiente tabla es: {evaluacion}\")"
   ]
  },
  {
   "cell_type": "markdown",
   "metadata": {},
   "source": [
    "### Ejercicio 16\n",
    "`p v q`"
   ]
  },
  {
   "cell_type": "code",
   "execution_count": null,
   "metadata": {},
   "outputs": [],
   "source": [
    "truth_table = ttg.Truths(['p', 'q'], ['p or q'])\n",
    "evaluacion = traduccion(truth_table.valuation())\n",
    "print(f\"{truth_table}\\nLa siguiente tabla es: {evaluacion}\")"
   ]
  },
  {
   "cell_type": "markdown",
   "metadata": {},
   "source": [
    "### Ejercicio 17\n",
    "`p <-> q v r`"
   ]
  },
  {
   "cell_type": "code",
   "execution_count": null,
   "metadata": {},
   "outputs": [],
   "source": [
    "truth_table = ttg.Truths(['p', 'q', 'r'], ['p = q or r'])\n",
    "evaluacion = traduccion(truth_table.valuation())\n",
    "print(f\"{truth_table}\\nLa siguiente tabla es: {evaluacion}\")"
   ]
  },
  {
   "cell_type": "markdown",
   "metadata": {},
   "source": [
    "### Ejercicio 18\n",
    "`[(¬p v q) v (p ^ q)] -> [(¬p v q) v ¬p]`"
   ]
  },
  {
   "cell_type": "code",
   "execution_count": null,
   "metadata": {},
   "outputs": [],
   "source": [
    "truth_table = ttg.Truths(['p', 'q'], [\"(((~p) or q) or (p and q)) implies (((~p) or q) or ~p)\"])\n",
    "evaluacion = traduccion(truth_table.valuation())\n",
    "print(f\"{truth_table}\\nLa siguiente tabla es: {evaluacion}\")"
   ]
  },
  {
   "cell_type": "markdown",
   "metadata": {},
   "source": [
    "### Ejercicio 19\n",
    "`(p v ¬q) -> (¬p -> ¬q)`"
   ]
  },
  {
   "cell_type": "code",
   "execution_count": null,
   "metadata": {},
   "outputs": [],
   "source": [
    "truth_table = ttg.Truths(['p', 'q'], [\"(p or ~q) implies ((~p )implies (~q))\"])\n",
    "evaluacion = traduccion(truth_table.valuation())\n",
    "print(f\"{truth_table}\\nLa siguiente tabla es: {evaluacion}\")"
   ]
  },
  {
   "cell_type": "markdown",
   "metadata": {},
   "source": [
    "### Ejercicio 20\n",
    "`(p <-> ¬q) v (p v ¬q)`"
   ]
  },
  {
   "cell_type": "code",
   "execution_count": null,
   "metadata": {},
   "outputs": [],
   "source": [
    "truth_table = ttg.Truths(['p', 'q'], [\"(p = ~q) or (p or ~q)\"])\n",
    "evaluacion = traduccion(truth_table.valuation())\n",
    "print(f\"{truth_table}\\nLa siguiente tabla es: {evaluacion}\")"
   ]
  },
  {
   "cell_type": "markdown",
   "metadata": {},
   "source": [
    "### Ejercicio 21\n",
    "`(¬p ^ q) v (¬p -> q)`"
   ]
  },
  {
   "cell_type": "code",
   "execution_count": null,
   "metadata": {},
   "outputs": [],
   "source": [
    "truth_table = ttg.Truths(['p', 'q'], [\"(~p and q) or (~p implies q)\"])\n",
    "evaluacion = traduccion(truth_table.valuation())\n",
    "print(f\"{truth_table}\\nLa siguiente tabla es: {evaluacion}\")"
   ]
  },
  {
   "cell_type": "markdown",
   "metadata": {},
   "source": [
    "### Ejercicio 22\n",
    "`¬q v ¬p`"
   ]
  },
  {
   "cell_type": "code",
   "execution_count": null,
   "metadata": {},
   "outputs": [],
   "source": [
    "truth_table = ttg.Truths(['p', 'q'], [\"~q or ~p\"])\n",
    "evaluacion = traduccion(truth_table.valuation())\n",
    "print(f\"{truth_table}\\nLa siguiente tabla es: {evaluacion}\")"
   ]
  },
  {
   "cell_type": "markdown",
   "metadata": {},
   "source": [
    "### Ejercicio 23\n",
    "`(p -> q ^ r) <-> ¬(¬q v r) v ¬r`"
   ]
  },
  {
   "cell_type": "code",
   "execution_count": null,
   "metadata": {},
   "outputs": [],
   "source": [
    "truth_table = ttg.Truths(['p', 'q', 'r'], [\"(p implies q and r) = ~(~q or r) or ~r\"])\n",
    "evaluacion = traduccion(truth_table.valuation())\n",
    "print(f\"{truth_table}\\nLa siguiente tabla es: {evaluacion}\")"
   ]
  },
  {
   "cell_type": "markdown",
   "metadata": {},
   "source": [
    "### Ejercicio 24\n",
    "`(¬q ^ r) -> ¬(¬q v r) v ¬r `"
   ]
  },
  {
   "cell_type": "code",
   "execution_count": null,
   "metadata": {},
   "outputs": [],
   "source": [
    "truth_table = ttg.Truths(['q', 'r'], [\"((~q) and r) implies ~(~q or r) or ~r\"])\n",
    "evaluacion = traduccion(truth_table.valuation())\n",
    "print(f\"{truth_table}\\nLa siguiente tabla es: {evaluacion}\")"
   ]
  },
  {
   "cell_type": "markdown",
   "metadata": {},
   "source": [
    "### Ejercicio 25\n",
    "`(p -> q) ^ r -> ¬(p v r) v ¬r `"
   ]
  },
  {
   "cell_type": "code",
   "execution_count": null,
   "metadata": {},
   "outputs": [],
   "source": [
    "truth_table = ttg.Truths(['p', 'q', 'r'], [\"(p implies q) and r implies ~(p or r) or ~r\"])\n",
    "evaluacion = traduccion(truth_table.valuation())\n",
    "print(f\"{truth_table}\\nLa siguiente tabla es: {evaluacion}\")"
   ]
  },
  {
   "cell_type": "markdown",
   "metadata": {},
   "source": [
    "### Ejercicio 26\n",
    "`(p -> q) ^ (q -> r) -> (p ^ ¬r)`"
   ]
  },
  {
   "cell_type": "code",
   "execution_count": null,
   "metadata": {},
   "outputs": [],
   "source": [
    "truth_table = ttg.Truths(['p', 'q', 'r'], [\"(p implies q) and (q implies r) implies (p and (~r))\"])\n",
    "evaluacion = traduccion(truth_table.valuation())\n",
    "print(f\"{truth_table}\\nLa siguiente tabla es: {evaluacion}\")"
   ]
  },
  {
   "cell_type": "markdown",
   "metadata": {},
   "source": [
    "### Ejercicio 27\n",
    "`¬p <-> (q ^ r) v ¬(¬q v r)`"
   ]
  },
  {
   "cell_type": "code",
   "execution_count": null,
   "metadata": {},
   "outputs": [],
   "source": [
    "truth_table = ttg.Truths(['p', 'q', 'r'], [\"~p = (q and r) or ~(~q or r)\"])\n",
    "evaluacion = traduccion(truth_table.valuation())\n",
    "print(f\"{truth_table}\\nLa siguiente tabla es: {evaluacion}\")"
   ]
  },
  {
   "cell_type": "markdown",
   "metadata": {},
   "source": [
    "### Ejercicio 28\n",
    "`[(p v ¬q) -> (p -> q)] -> [(¬p -> q) v ¬p] v ¬p`"
   ]
  },
  {
   "cell_type": "code",
   "execution_count": null,
   "metadata": {},
   "outputs": [],
   "source": [
    "truth_table = ttg.Truths(['p', 'q'], [\"((p or ~q) implies (p implies q)) implies ((~p implies q) or ~p) or ~p\"])\n",
    "evaluacion = traduccion(truth_table.valuation())\n",
    "print(f\"{truth_table}\\nLa siguiente tabla es: {evaluacion}\")"
   ]
  },
  {
   "cell_type": "markdown",
   "metadata": {},
   "source": [
    "### Ejercicio 29\n",
    "`[¬(p v q) v (p -> q)] -> [(¬p -> q) v ¬p]`"
   ]
  },
  {
   "cell_type": "code",
   "execution_count": null,
   "metadata": {},
   "outputs": [],
   "source": [
    "truth_table = ttg.Truths(['p', 'q'], [\"((~(p or q)) or (p implies q)) implies (((~p) implies q) or (~p))\"])\n",
    "evaluacion = traduccion(truth_table.valuation())\n",
    "print(f\"{truth_table}\\nLa siguiente tabla es: {evaluacion}\")"
   ]
  },
  {
   "cell_type": "markdown",
   "metadata": {},
   "source": [
    "### Ejercicio 30\n",
    "`(p -> q) ^ (q -> r) -> (p ^ r)`"
   ]
  },
  {
   "cell_type": "code",
   "execution_count": null,
   "metadata": {},
   "outputs": [],
   "source": [
    "truth_table = ttg.Truths(['p', 'q', 'r'], [\"(p implies q) and (q implies r) implies (p and r)\"])\n",
    "evaluacion = traduccion(truth_table.valuation())\n",
    "print(f\"{truth_table}\\nLa siguiente tabla es: {evaluacion}\")"
   ]
  },
  {
   "cell_type": "markdown",
   "metadata": {},
   "source": [
    "### Ejercicio 31\n",
    "`(p ^ q -> r) -> (p v r)`"
   ]
  },
  {
   "cell_type": "code",
   "execution_count": null,
   "metadata": {},
   "outputs": [],
   "source": [
    "truth_table = ttg.Truths(['p', 'q', 'r'], [\"(p and q implies r) implies (p or r)\"])\n",
    "evaluacion = traduccion(truth_table.valuation())\n",
    "print(f\"{truth_table}\\nLa siguiente tabla es: {evaluacion}\")"
   ]
  }
 ],
 "metadata": {
  "kernelspec": {
   "display_name": "Python 3",
   "language": "python",
   "name": "python3"
  },
  "language_info": {
   "codemirror_mode": {
    "name": "ipython",
    "version": 3
   },
   "file_extension": ".py",
   "mimetype": "text/x-python",
   "name": "python",
   "nbconvert_exporter": "python",
   "pygments_lexer": "ipython3",
   "version": "3.9.6"
  },
  "orig_nbformat": 4
 },
 "nbformat": 4,
 "nbformat_minor": 2
}
