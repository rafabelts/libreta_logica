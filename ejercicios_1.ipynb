{
 "cells": [
  {
   "cell_type": "markdown",
   "metadata": {},
   "source": [
    "# Ejercicios:"
   ]
  },
  {
   "cell_type": "code",
   "execution_count": 62,
   "metadata": {},
   "outputs": [],
   "source": [
    "import ttg"
   ]
  },
  {
   "cell_type": "code",
   "execution_count": 63,
   "metadata": {},
   "outputs": [],
   "source": [
    "def traduccion(valuation):\n",
    "    if valuation == \"Contingency\":\n",
    "        return \"Proposición empírica\"\n",
    "    elif valuation == \"Tautology\":\n",
    "        return \"Tautología\"\n",
    "    elif valuation == \"Contradiction\":\n",
    "        return \"Contradicción\""
   ]
  },
  {
   "cell_type": "markdown",
   "metadata": {},
   "source": [
    "### Ejercicio 1:\n",
    "\n",
    "`p ^ q`"
   ]
  },
  {
   "cell_type": "code",
   "execution_count": 64,
   "metadata": {},
   "outputs": [
    {
     "name": "stdout",
     "output_type": "stream",
     "text": [
      "+-----+-----+-----------+\n",
      "|  p  |  q  |  p and q  |\n",
      "|-----+-----+-----------|\n",
      "|  1  |  1  |     1     |\n",
      "|  1  |  0  |     0     |\n",
      "|  0  |  1  |     0     |\n",
      "|  0  |  0  |     0     |\n",
      "+-----+-----+-----------+\n",
      "La siguiente tabla es: Proposición empírica\n"
     ]
    }
   ],
   "source": [
    "truth_table = ttg.Truths(['p', 'q'], ['p and q'])\n",
    "evaluacion = traduccion(truth_table.valuation())\n",
    "print(f\"{truth_table}\\nLa siguiente tabla es: {evaluacion}\")"
   ]
  },
  {
   "cell_type": "markdown",
   "metadata": {},
   "source": [
    "### Ejercicio 2:\n",
    "`(p ^ q) ^ r`"
   ]
  },
  {
   "cell_type": "code",
   "execution_count": 65,
   "metadata": {},
   "outputs": [
    {
     "name": "stdout",
     "output_type": "stream",
     "text": [
      "+-----+-----+-----+-------------------+\n",
      "|  p  |  q  |  r  |  (p and q) and r  |\n",
      "|-----+-----+-----+-------------------|\n",
      "|  1  |  1  |  1  |         1         |\n",
      "|  1  |  1  |  0  |         0         |\n",
      "|  1  |  0  |  1  |         0         |\n",
      "|  1  |  0  |  0  |         0         |\n",
      "|  0  |  1  |  1  |         0         |\n",
      "|  0  |  1  |  0  |         0         |\n",
      "|  0  |  0  |  1  |         0         |\n",
      "|  0  |  0  |  0  |         0         |\n",
      "+-----+-----+-----+-------------------+\n",
      "La siguiente tabla es: Proposición empírica\n"
     ]
    }
   ],
   "source": [
    "truth_table = ttg.Truths(['p', 'q', 'r'], ['(p and q) and r'])\n",
    "evaluacion = traduccion(truth_table.valuation())\n",
    "print(f\"{truth_table}\\nLa siguiente tabla es: {evaluacion}\")"
   ]
  },
  {
   "cell_type": "markdown",
   "metadata": {},
   "source": [
    "### Ejercicio 3\n",
    "`¬(p -> q) ^ (p ^ ¬q)`"
   ]
  },
  {
   "cell_type": "code",
   "execution_count": 66,
   "metadata": {},
   "outputs": [
    {
     "name": "stdout",
     "output_type": "stream",
     "text": [
      "+-----+-----+----------------------------------+\n",
      "|  p  |  q  |  ~(p implies ~q) and (p and ~q)  |\n",
      "|-----+-----+----------------------------------|\n",
      "|  1  |  1  |                0                 |\n",
      "|  1  |  0  |                0                 |\n",
      "|  0  |  1  |                0                 |\n",
      "|  0  |  0  |                0                 |\n",
      "+-----+-----+----------------------------------+\n",
      "La siguiente tabla es: Contradicción\n"
     ]
    }
   ],
   "source": [
    "truth_table = ttg.Truths(['p', 'q'], ['~(p implies ~q) and (p and ~q)'])\n",
    "evaluacion = traduccion(truth_table.valuation())\n",
    "print(f\"{truth_table}\\nLa siguiente tabla es: {evaluacion}\")"
   ]
  },
  {
   "cell_type": "markdown",
   "metadata": {},
   "source": [
    "### Ejercicio 4\n",
    "`(p ^ q) v (p v ¬q)`"
   ]
  },
  {
   "cell_type": "code",
   "execution_count": 67,
   "metadata": {},
   "outputs": [
    {
     "name": "stdout",
     "output_type": "stream",
     "text": [
      "+-----+-----+--------------------------+\n",
      "|  p  |  q  |  (p and q) or (p or ~q)  |\n",
      "|-----+-----+--------------------------|\n",
      "|  1  |  1  |            1             |\n",
      "|  1  |  0  |            1             |\n",
      "|  0  |  1  |            0             |\n",
      "|  0  |  0  |            1             |\n",
      "+-----+-----+--------------------------+\n",
      "La siguiente tabla es: Proposición empírica\n"
     ]
    }
   ],
   "source": [
    "truth_table = ttg.Truths(['p', 'q'], ['(p and q) or (p or ~q)'])\n",
    "evaluacion = traduccion(truth_table.valuation())\n",
    "print(f\"{truth_table}\\nLa siguiente tabla es: {evaluacion}\")"
   ]
  },
  {
   "cell_type": "markdown",
   "metadata": {},
   "source": [
    "### Ejercicio 5\n",
    "`p ^ q ^ r`"
   ]
  },
  {
   "cell_type": "code",
   "execution_count": 68,
   "metadata": {},
   "outputs": [
    {
     "name": "stdout",
     "output_type": "stream",
     "text": [
      "+-----+-----+-----+-----------------+\n",
      "|  p  |  q  |  r  |  p and q and r  |\n",
      "|-----+-----+-----+-----------------|\n",
      "|  1  |  1  |  1  |        1        |\n",
      "|  1  |  1  |  0  |        0        |\n",
      "|  1  |  0  |  1  |        0        |\n",
      "|  1  |  0  |  0  |        0        |\n",
      "|  0  |  1  |  1  |        0        |\n",
      "|  0  |  1  |  0  |        0        |\n",
      "|  0  |  0  |  1  |        0        |\n",
      "|  0  |  0  |  0  |        0        |\n",
      "+-----+-----+-----+-----------------+\n",
      "La siguiente tabla es: Proposición empírica\n"
     ]
    }
   ],
   "source": [
    "truth_table = ttg.Truths(['p', 'q', 'r'], ['p and q and r'])\n",
    "evaluacion = traduccion(truth_table.valuation())\n",
    "print(f\"{truth_table}\\nLa siguiente tabla es: {evaluacion}\")\n"
   ]
  },
  {
   "cell_type": "markdown",
   "metadata": {},
   "source": [
    "### Ejercicio 6\n",
    "\n",
    "`¬(p ^ ¬q) ^ (p ^ ¬q)`"
   ]
  },
  {
   "cell_type": "code",
   "execution_count": 69,
   "metadata": {},
   "outputs": [
    {
     "name": "stdout",
     "output_type": "stream",
     "text": [
      "+-----+-----+------------------------------+\n",
      "|  p  |  q  |  ~(p and ~q) and (p and ~q)  |\n",
      "|-----+-----+------------------------------|\n",
      "|  1  |  1  |              0               |\n",
      "|  1  |  0  |              0               |\n",
      "|  0  |  1  |              0               |\n",
      "|  0  |  0  |              0               |\n",
      "+-----+-----+------------------------------+\n",
      "La siguiente tabla es: Contradicción\n"
     ]
    }
   ],
   "source": [
    "truth_table = ttg.Truths(['p', 'q'], ['~(p and ~q) and (p and ~q)'])\n",
    "evaluacion = traduccion(truth_table.valuation())\n",
    "print(f\"{truth_table}\\nLa siguiente tabla es: {evaluacion}\")"
   ]
  },
  {
   "cell_type": "markdown",
   "metadata": {},
   "source": [
    "### Ejercicio 7\n",
    "`¬¬(¬p ^ ¬q) v (p ^ ¬q)`"
   ]
  },
  {
   "cell_type": "code",
   "execution_count": 70,
   "metadata": {},
   "outputs": [
    {
     "name": "stdout",
     "output_type": "stream",
     "text": [
      "+-----+-----+---------------------------------+\n",
      "|  p  |  q  |  ~(~(~p and ~q)) or (p and ~q)  |\n",
      "|-----+-----+---------------------------------|\n",
      "|  1  |  1  |                0                |\n",
      "|  1  |  0  |                1                |\n",
      "|  0  |  1  |                0                |\n",
      "|  0  |  0  |                1                |\n",
      "+-----+-----+---------------------------------+\n",
      "La siguiente tabla es: Proposición empírica\n"
     ]
    }
   ],
   "source": [
    "truth_table = ttg.Truths(['p', 'q'], ['~(~(~p and ~q)) or (p and ~q)'])\n",
    "evaluacion = traduccion(truth_table.valuation())\n",
    "print(f\"{truth_table}\\nLa siguiente tabla es: {evaluacion}\")"
   ]
  },
  {
   "cell_type": "markdown",
   "metadata": {},
   "source": [
    "### Ejercicio 8\n",
    "`p v q ^ r`"
   ]
  },
  {
   "cell_type": "code",
   "execution_count": 71,
   "metadata": {},
   "outputs": [
    {
     "name": "stdout",
     "output_type": "stream",
     "text": [
      "+-----+-----+-----+----------------+\n",
      "|  p  |  q  |  r  |  p or q and r  |\n",
      "|-----+-----+-----+----------------|\n",
      "|  1  |  1  |  1  |       1        |\n",
      "|  1  |  1  |  0  |       1        |\n",
      "|  1  |  0  |  1  |       1        |\n",
      "|  1  |  0  |  0  |       1        |\n",
      "|  0  |  1  |  1  |       1        |\n",
      "|  0  |  1  |  0  |       0        |\n",
      "|  0  |  0  |  1  |       0        |\n",
      "|  0  |  0  |  0  |       0        |\n",
      "+-----+-----+-----+----------------+\n",
      "La siguiente tabla es: Proposición empírica\n"
     ]
    }
   ],
   "source": [
    "truth_table = ttg.Truths(['p', 'q', 'r'], ['p or q and r'])\n",
    "evaluacion = traduccion(truth_table.valuation())\n",
    "print(f\"{truth_table}\\nLa siguiente tabla es: {evaluacion}\")"
   ]
  },
  {
   "cell_type": "markdown",
   "metadata": {},
   "source": [
    "### Ejercicio 9\n",
    "`¬(¬p ^ ¬q) ^ (¬p ^ ¬q)`"
   ]
  },
  {
   "cell_type": "code",
   "execution_count": 72,
   "metadata": {},
   "outputs": [
    {
     "name": "stdout",
     "output_type": "stream",
     "text": [
      "+-----+-----+--------------------------------+\n",
      "|  p  |  q  |  ~(~p and ~q) and (~p and ~q)  |\n",
      "|-----+-----+--------------------------------|\n",
      "|  1  |  1  |               0                |\n",
      "|  1  |  0  |               0                |\n",
      "|  0  |  1  |               0                |\n",
      "|  0  |  0  |               0                |\n",
      "+-----+-----+--------------------------------+\n",
      "La siguiente tabla es: Contradicción\n"
     ]
    }
   ],
   "source": [
    "truth_table = ttg.Truths(['p', 'q'], ['~(~p and ~q) and (~p and ~q)'])\n",
    "evaluacion = traduccion(truth_table.valuation())\n",
    "print(f\"{truth_table}\\nLa siguiente tabla es: {evaluacion}\")"
   ]
  },
  {
   "cell_type": "markdown",
   "metadata": {},
   "source": [
    "### Ejercicio 10\n",
    "`p v q ^ ¬r`"
   ]
  },
  {
   "cell_type": "code",
   "execution_count": 73,
   "metadata": {},
   "outputs": [
    {
     "name": "stdout",
     "output_type": "stream",
     "text": [
      "+-----+-----+-----+-----------------+\n",
      "|  p  |  q  |  r  |  p or q and ~r  |\n",
      "|-----+-----+-----+-----------------|\n",
      "|  1  |  1  |  1  |        1        |\n",
      "|  1  |  1  |  0  |        1        |\n",
      "|  1  |  0  |  1  |        1        |\n",
      "|  1  |  0  |  0  |        1        |\n",
      "|  0  |  1  |  1  |        0        |\n",
      "|  0  |  1  |  0  |        1        |\n",
      "|  0  |  0  |  1  |        0        |\n",
      "|  0  |  0  |  0  |        0        |\n",
      "+-----+-----+-----+-----------------+\n",
      "La siguiente tabla es: Proposición empírica\n"
     ]
    }
   ],
   "source": [
    "truth_table = ttg.Truths(['p', 'q', 'r'], ['p or q and ~r'])\n",
    "evaluacion = traduccion(truth_table.valuation())\n",
    "print(f\"{truth_table}\\nLa siguiente tabla es: {evaluacion}\")"
   ]
  },
  {
   "cell_type": "markdown",
   "metadata": {},
   "source": [
    "### Ejercicio 11\n",
    "`p ^ q -> r`"
   ]
  },
  {
   "cell_type": "code",
   "execution_count": 74,
   "metadata": {},
   "outputs": [
    {
     "name": "stdout",
     "output_type": "stream",
     "text": [
      "+-----+-----+-----+---------------------+\n",
      "|  p  |  q  |  r  |  p and q implies r  |\n",
      "|-----+-----+-----+---------------------|\n",
      "|  1  |  1  |  1  |          1          |\n",
      "|  1  |  1  |  0  |          0          |\n",
      "|  1  |  0  |  1  |          1          |\n",
      "|  1  |  0  |  0  |          1          |\n",
      "|  0  |  1  |  1  |          1          |\n",
      "|  0  |  1  |  0  |          1          |\n",
      "|  0  |  0  |  1  |          1          |\n",
      "|  0  |  0  |  0  |          1          |\n",
      "+-----+-----+-----+---------------------+\n",
      "La siguiente tabla es: Proposición empírica\n"
     ]
    }
   ],
   "source": [
    "truth_table = ttg.Truths(['p', 'q', 'r'], ['p and q implies r'])\n",
    "evaluacion = traduccion(truth_table.valuation())\n",
    "print(f\"{truth_table}\\nLa siguiente tabla es: {evaluacion}\")"
   ]
  },
  {
   "cell_type": "markdown",
   "metadata": {},
   "source": [
    "### Ejercicio 12\n",
    "`p ^ q -> ¬r`"
   ]
  },
  {
   "cell_type": "code",
   "execution_count": 75,
   "metadata": {},
   "outputs": [
    {
     "name": "stdout",
     "output_type": "stream",
     "text": [
      "+-----+-----+-----+----------------------+\n",
      "|  p  |  q  |  r  |  p and q implies ~r  |\n",
      "|-----+-----+-----+----------------------|\n",
      "|  1  |  1  |  1  |          0           |\n",
      "|  1  |  1  |  0  |          1           |\n",
      "|  1  |  0  |  1  |          1           |\n",
      "|  1  |  0  |  0  |          1           |\n",
      "|  0  |  1  |  1  |          1           |\n",
      "|  0  |  1  |  0  |          1           |\n",
      "|  0  |  0  |  1  |          1           |\n",
      "|  0  |  0  |  0  |          1           |\n",
      "+-----+-----+-----+----------------------+\n",
      "La siguiente tabla es: Proposición empírica\n"
     ]
    }
   ],
   "source": [
    "truth_table = ttg.Truths(['p', 'q', 'r'], ['p and q implies ~r'])\n",
    "evaluacion = traduccion(truth_table.valuation())\n",
    "print(f\"{truth_table}\\nLa siguiente tabla es: {evaluacion}\")"
   ]
  },
  {
   "cell_type": "markdown",
   "metadata": {},
   "source": [
    "### Ejercicio 13\n",
    "`p <-> ¬p`"
   ]
  },
  {
   "cell_type": "code",
   "execution_count": 76,
   "metadata": {},
   "outputs": [
    {
     "name": "stdout",
     "output_type": "stream",
     "text": [
      "+-----+----------+\n",
      "|  p  |  p = ~p  |\n",
      "|-----+----------|\n",
      "|  1  |    0     |\n",
      "|  0  |    0     |\n",
      "+-----+----------+\n",
      "La siguiente tabla es: Contradicción\n"
     ]
    }
   ],
   "source": [
    "truth_table = ttg.Truths(['p'], ['p = ~p'])\n",
    "evaluacion = traduccion(truth_table.valuation())\n",
    "print(f\"{truth_table}\\nLa siguiente tabla es: {evaluacion}\")"
   ]
  },
  {
   "cell_type": "markdown",
   "metadata": {},
   "source": [
    "### Ejercicio 14\n",
    "`¬(p ^ ¬q) ^ (p ^ ¬q)`"
   ]
  },
  {
   "cell_type": "code",
   "execution_count": 77,
   "metadata": {},
   "outputs": [
    {
     "name": "stdout",
     "output_type": "stream",
     "text": [
      "+-----+-----+------------------------------+\n",
      "|  p  |  q  |  ~(p and ~q) and (p and ~q)  |\n",
      "|-----+-----+------------------------------|\n",
      "|  1  |  1  |              0               |\n",
      "|  1  |  0  |              0               |\n",
      "|  0  |  1  |              0               |\n",
      "|  0  |  0  |              0               |\n",
      "+-----+-----+------------------------------+\n",
      "La siguiente tabla es: Contradicción\n"
     ]
    }
   ],
   "source": [
    "truth_table = ttg.Truths(['p', 'q'], ['~(p and ~q) and (p and ~q)'])\n",
    "evaluacion = traduccion(truth_table.valuation())\n",
    "print(f\"{truth_table}\\nLa siguiente tabla es: {evaluacion}\")"
   ]
  },
  {
   "cell_type": "markdown",
   "metadata": {},
   "source": [
    "### Ejercicio 15\n",
    "`¬¬p v ¬¬q`"
   ]
  },
  {
   "cell_type": "code",
   "execution_count": 78,
   "metadata": {},
   "outputs": [
    {
     "name": "stdout",
     "output_type": "stream",
     "text": [
      "+-----+-----+------------------+\n",
      "|  p  |  q  |  ~(~p) or ~(~q)  |\n",
      "|-----+-----+------------------|\n",
      "|  1  |  1  |        1         |\n",
      "|  1  |  0  |        1         |\n",
      "|  0  |  1  |        1         |\n",
      "|  0  |  0  |        0         |\n",
      "+-----+-----+------------------+\n",
      "La siguiente tabla es: Proposición empírica\n"
     ]
    }
   ],
   "source": [
    "truth_table = ttg.Truths(['p', 'q'], ['~(~p) or ~(~q)'])\n",
    "evaluacion = traduccion(truth_table.valuation())\n",
    "print(f\"{truth_table}\\nLa siguiente tabla es: {evaluacion}\")"
   ]
  },
  {
   "cell_type": "markdown",
   "metadata": {},
   "source": [
    "### Ejercicio 16\n",
    "`p v q`"
   ]
  },
  {
   "cell_type": "code",
   "execution_count": 79,
   "metadata": {},
   "outputs": [
    {
     "name": "stdout",
     "output_type": "stream",
     "text": [
      "+-----+-----+----------+\n",
      "|  p  |  q  |  p or q  |\n",
      "|-----+-----+----------|\n",
      "|  1  |  1  |    1     |\n",
      "|  1  |  0  |    1     |\n",
      "|  0  |  1  |    1     |\n",
      "|  0  |  0  |    0     |\n",
      "+-----+-----+----------+\n",
      "La siguiente tabla es: Proposición empírica\n"
     ]
    }
   ],
   "source": [
    "truth_table = ttg.Truths(['p', 'q'], ['p or q'])\n",
    "evaluacion = traduccion(truth_table.valuation())\n",
    "print(f\"{truth_table}\\nLa siguiente tabla es: {evaluacion}\")"
   ]
  },
  {
   "cell_type": "markdown",
   "metadata": {},
   "source": [
    "### Ejercicio 17\n",
    "`p <-> q v r`"
   ]
  },
  {
   "cell_type": "code",
   "execution_count": 80,
   "metadata": {},
   "outputs": [
    {
     "name": "stdout",
     "output_type": "stream",
     "text": [
      "+-----+-----+-----+--------------+\n",
      "|  p  |  q  |  r  |  p = q or r  |\n",
      "|-----+-----+-----+--------------|\n",
      "|  1  |  1  |  1  |      1       |\n",
      "|  1  |  1  |  0  |      1       |\n",
      "|  1  |  0  |  1  |      1       |\n",
      "|  1  |  0  |  0  |      0       |\n",
      "|  0  |  1  |  1  |      0       |\n",
      "|  0  |  1  |  0  |      0       |\n",
      "|  0  |  0  |  1  |      0       |\n",
      "|  0  |  0  |  0  |      1       |\n",
      "+-----+-----+-----+--------------+\n",
      "La siguiente tabla es: Proposición empírica\n"
     ]
    }
   ],
   "source": [
    "truth_table = ttg.Truths(['p', 'q', 'r'], ['p = q or r'])\n",
    "evaluacion = traduccion(truth_table.valuation())\n",
    "print(f\"{truth_table}\\nLa siguiente tabla es: {evaluacion}\")"
   ]
  },
  {
   "cell_type": "markdown",
   "metadata": {},
   "source": [
    "### Ejercicio 18\n",
    "`[(¬p v q) v (p ^ q)] -> [(¬p v q) v ¬p]`"
   ]
  },
  {
   "cell_type": "code",
   "execution_count": 81,
   "metadata": {},
   "outputs": [
    {
     "name": "stdout",
     "output_type": "stream",
     "text": [
      "+-----+-----+----------------------------------------------------------+\n",
      "|  p  |  q  |  (((~p) or q) or (p and q)) implies (((~p) or q) or ~p)  |\n",
      "|-----+-----+----------------------------------------------------------|\n",
      "|  1  |  1  |                            1                             |\n",
      "|  1  |  0  |                            1                             |\n",
      "|  0  |  1  |                            1                             |\n",
      "|  0  |  0  |                            1                             |\n",
      "+-----+-----+----------------------------------------------------------+\n",
      "La siguiente tabla es: Tautología\n"
     ]
    }
   ],
   "source": [
    "truth_table = ttg.Truths(['p', 'q'], [\"(((~p) or q) or (p and q)) implies (((~p) or q) or ~p)\"])\n",
    "evaluacion = traduccion(truth_table.valuation())\n",
    "print(f\"{truth_table}\\nLa siguiente tabla es: {evaluacion}\")"
   ]
  },
  {
   "cell_type": "markdown",
   "metadata": {},
   "source": [
    "### Ejercicio 19\n",
    "`(p v ¬q) -> (¬p -> ¬q)`"
   ]
  },
  {
   "cell_type": "code",
   "execution_count": 82,
   "metadata": {},
   "outputs": [
    {
     "name": "stdout",
     "output_type": "stream",
     "text": [
      "+-----+-----+-----------------------------------------+\n",
      "|  p  |  q  |  (p or ~q) implies ((~p )implies (~q))  |\n",
      "|-----+-----+-----------------------------------------|\n",
      "|  1  |  1  |                    1                    |\n",
      "|  1  |  0  |                    1                    |\n",
      "|  0  |  1  |                    1                    |\n",
      "|  0  |  0  |                    1                    |\n",
      "+-----+-----+-----------------------------------------+\n",
      "La siguiente tabla es: Tautología\n"
     ]
    }
   ],
   "source": [
    "truth_table = ttg.Truths(['p', 'q'], [\"(p or ~q) implies ((~p )implies (~q))\"])\n",
    "evaluacion = traduccion(truth_table.valuation())\n",
    "print(f\"{truth_table}\\nLa siguiente tabla es: {evaluacion}\")"
   ]
  },
  {
   "cell_type": "markdown",
   "metadata": {},
   "source": [
    "### Ejercicio 20\n",
    "`(p <-> ¬q) v (p v ¬q)`"
   ]
  },
  {
   "cell_type": "code",
   "execution_count": 83,
   "metadata": {},
   "outputs": [
    {
     "name": "stdout",
     "output_type": "stream",
     "text": [
      "+-----+-----+-------------------------+\n",
      "|  p  |  q  |  (p = ~q) or (p or ~q)  |\n",
      "|-----+-----+-------------------------|\n",
      "|  1  |  1  |            1            |\n",
      "|  1  |  0  |            1            |\n",
      "|  0  |  1  |            1            |\n",
      "|  0  |  0  |            1            |\n",
      "+-----+-----+-------------------------+\n",
      "La siguiente tabla es: Tautología\n"
     ]
    }
   ],
   "source": [
    "truth_table = ttg.Truths(['p', 'q'], [\"(p = ~q) or (p or ~q)\"])\n",
    "evaluacion = traduccion(truth_table.valuation())\n",
    "print(f\"{truth_table}\\nLa siguiente tabla es: {evaluacion}\")"
   ]
  },
  {
   "cell_type": "markdown",
   "metadata": {},
   "source": [
    "### Ejercicio 21\n",
    "`(¬p ^ q) v (¬p -> q)`"
   ]
  },
  {
   "cell_type": "code",
   "execution_count": 84,
   "metadata": {},
   "outputs": [
    {
     "name": "stdout",
     "output_type": "stream",
     "text": [
      "+-----+-----+--------------------------------+\n",
      "|  p  |  q  |  (~p and q) or (~p implies q)  |\n",
      "|-----+-----+--------------------------------|\n",
      "|  1  |  1  |               1                |\n",
      "|  1  |  0  |               1                |\n",
      "|  0  |  1  |               1                |\n",
      "|  0  |  0  |               0                |\n",
      "+-----+-----+--------------------------------+\n",
      "La siguiente tabla es: Proposición empírica\n"
     ]
    }
   ],
   "source": [
    "truth_table = ttg.Truths(['p', 'q'], [\"(~p and q) or (~p implies q)\"])\n",
    "evaluacion = traduccion(truth_table.valuation())\n",
    "print(f\"{truth_table}\\nLa siguiente tabla es: {evaluacion}\")"
   ]
  },
  {
   "cell_type": "markdown",
   "metadata": {},
   "source": [
    "### Ejercicio 22\n",
    "`¬q v ¬p`"
   ]
  },
  {
   "cell_type": "code",
   "execution_count": 85,
   "metadata": {},
   "outputs": [
    {
     "name": "stdout",
     "output_type": "stream",
     "text": [
      "+-----+-----+------------+\n",
      "|  p  |  q  |  ~q or ~p  |\n",
      "|-----+-----+------------|\n",
      "|  1  |  1  |     0      |\n",
      "|  1  |  0  |     1      |\n",
      "|  0  |  1  |     1      |\n",
      "|  0  |  0  |     1      |\n",
      "+-----+-----+------------+\n",
      "La siguiente tabla es: Proposición empírica\n"
     ]
    }
   ],
   "source": [
    "truth_table = ttg.Truths(['p', 'q'], [\"~q or ~p\"])\n",
    "evaluacion = traduccion(truth_table.valuation())\n",
    "print(f\"{truth_table}\\nLa siguiente tabla es: {evaluacion}\")"
   ]
  },
  {
   "cell_type": "markdown",
   "metadata": {},
   "source": [
    "### Ejercicio 23\n",
    "`(p -> q ^ r) <-> ¬(¬q v r) v ¬r`"
   ]
  },
  {
   "cell_type": "code",
   "execution_count": 86,
   "metadata": {},
   "outputs": [
    {
     "name": "stdout",
     "output_type": "stream",
     "text": [
      "+-----+-----+-----+------------------------------------------+\n",
      "|  p  |  q  |  r  |  (p implies q and r) = ~(~q or r) or ~r  |\n",
      "|-----+-----+-----+------------------------------------------|\n",
      "|  1  |  1  |  1  |                    0                     |\n",
      "|  1  |  1  |  0  |                    1                     |\n",
      "|  1  |  0  |  1  |                    1                     |\n",
      "|  1  |  0  |  0  |                    0                     |\n",
      "|  0  |  1  |  1  |                    0                     |\n",
      "|  0  |  1  |  0  |                    1                     |\n",
      "|  0  |  0  |  1  |                    0                     |\n",
      "|  0  |  0  |  0  |                    1                     |\n",
      "+-----+-----+-----+------------------------------------------+\n",
      "La siguiente tabla es: Proposición empírica\n"
     ]
    }
   ],
   "source": [
    "truth_table = ttg.Truths(['p', 'q', 'r'], [\"(p implies q and r) = ~(~q or r) or ~r\"])\n",
    "evaluacion = traduccion(truth_table.valuation())\n",
    "print(f\"{truth_table}\\nLa siguiente tabla es: {evaluacion}\")"
   ]
  },
  {
   "cell_type": "markdown",
   "metadata": {},
   "source": [
    "### Ejercicio 24\n",
    "`(¬q ^ r) -> ¬(¬q v r) v ¬r `"
   ]
  },
  {
   "cell_type": "code",
   "execution_count": 87,
   "metadata": {},
   "outputs": [
    {
     "name": "stdout",
     "output_type": "stream",
     "text": [
      "+-----+-----+-----------------------------------------+\n",
      "|  q  |  r  |  ((~q) and r) implies ~(~q or r) or ~r  |\n",
      "|-----+-----+-----------------------------------------|\n",
      "|  1  |  1  |                    1                    |\n",
      "|  1  |  0  |                    1                    |\n",
      "|  0  |  1  |                    0                    |\n",
      "|  0  |  0  |                    1                    |\n",
      "+-----+-----+-----------------------------------------+\n",
      "La siguiente tabla es: Proposición empírica\n"
     ]
    }
   ],
   "source": [
    "truth_table = ttg.Truths(['q', 'r'], [\"((~q) and r) implies ~(~q or r) or ~r\"])\n",
    "evaluacion = traduccion(truth_table.valuation())\n",
    "print(f\"{truth_table}\\nLa siguiente tabla es: {evaluacion}\")"
   ]
  },
  {
   "cell_type": "markdown",
   "metadata": {},
   "source": [
    "### Ejercicio 25\n",
    "`(p -> q) ^ r -> ¬(p v r) v ¬r `"
   ]
  },
  {
   "cell_type": "code",
   "execution_count": 88,
   "metadata": {},
   "outputs": [
    {
     "name": "stdout",
     "output_type": "stream",
     "text": [
      "+-----+-----+-----+-----------------------------------------------+\n",
      "|  p  |  q  |  r  |  (p implies q) and r implies ~(p or r) or ~r  |\n",
      "|-----+-----+-----+-----------------------------------------------|\n",
      "|  1  |  1  |  1  |                       0                       |\n",
      "|  1  |  1  |  0  |                       1                       |\n",
      "|  1  |  0  |  1  |                       1                       |\n",
      "|  1  |  0  |  0  |                       1                       |\n",
      "|  0  |  1  |  1  |                       0                       |\n",
      "|  0  |  1  |  0  |                       1                       |\n",
      "|  0  |  0  |  1  |                       0                       |\n",
      "|  0  |  0  |  0  |                       1                       |\n",
      "+-----+-----+-----+-----------------------------------------------+\n",
      "La siguiente tabla es: Proposición empírica\n"
     ]
    }
   ],
   "source": [
    "truth_table = ttg.Truths(['p', 'q', 'r'], [\"(p implies q) and r implies ~(p or r) or ~r\"])\n",
    "evaluacion = traduccion(truth_table.valuation())\n",
    "print(f\"{truth_table}\\nLa siguiente tabla es: {evaluacion}\")"
   ]
  },
  {
   "cell_type": "markdown",
   "metadata": {},
   "source": [
    "### Ejercicio 26\n",
    "`(p -> q) ^ (q -> r) -> (p ^ ¬r)`"
   ]
  },
  {
   "cell_type": "code",
   "execution_count": 89,
   "metadata": {},
   "outputs": [
    {
     "name": "stdout",
     "output_type": "stream",
     "text": [
      "+-----+-----+-----+--------------------------------------------------------+\n",
      "|  p  |  q  |  r  |  (p implies q) and (q implies r) implies (p and (~r))  |\n",
      "|-----+-----+-----+--------------------------------------------------------|\n",
      "|  1  |  1  |  1  |                           0                            |\n",
      "|  1  |  1  |  0  |                           1                            |\n",
      "|  1  |  0  |  1  |                           1                            |\n",
      "|  1  |  0  |  0  |                           1                            |\n",
      "|  0  |  1  |  1  |                           0                            |\n",
      "|  0  |  1  |  0  |                           1                            |\n",
      "|  0  |  0  |  1  |                           0                            |\n",
      "|  0  |  0  |  0  |                           0                            |\n",
      "+-----+-----+-----+--------------------------------------------------------+\n",
      "La siguiente tabla es: Proposición empírica\n"
     ]
    }
   ],
   "source": [
    "truth_table = ttg.Truths(['p', 'q', 'r'], [\"(p implies q) and (q implies r) implies (p and (~r))\"])\n",
    "evaluacion = traduccion(truth_table.valuation())\n",
    "print(f\"{truth_table}\\nLa siguiente tabla es: {evaluacion}\")"
   ]
  },
  {
   "cell_type": "markdown",
   "metadata": {},
   "source": [
    "### Ejercicio 27\n",
    "`¬p <-> (q ^ r) v ¬(¬q v r)`"
   ]
  },
  {
   "cell_type": "code",
   "execution_count": 90,
   "metadata": {},
   "outputs": [
    {
     "name": "stdout",
     "output_type": "stream",
     "text": [
      "+-----+-----+-----+--------------------------------+\n",
      "|  p  |  q  |  r  |  ~p = (q and r) or ~(~q or r)  |\n",
      "|-----+-----+-----+--------------------------------|\n",
      "|  1  |  1  |  1  |               0                |\n",
      "|  1  |  1  |  0  |               0                |\n",
      "|  1  |  0  |  1  |               1                |\n",
      "|  1  |  0  |  0  |               1                |\n",
      "|  0  |  1  |  1  |               1                |\n",
      "|  0  |  1  |  0  |               1                |\n",
      "|  0  |  0  |  1  |               0                |\n",
      "|  0  |  0  |  0  |               0                |\n",
      "+-----+-----+-----+--------------------------------+\n",
      "La siguiente tabla es: Proposición empírica\n"
     ]
    }
   ],
   "source": [
    "truth_table = ttg.Truths(['p', 'q', 'r'], [\"~p = (q and r) or ~(~q or r)\"])\n",
    "evaluacion = traduccion(truth_table.valuation())\n",
    "print(f\"{truth_table}\\nLa siguiente tabla es: {evaluacion}\")"
   ]
  },
  {
   "cell_type": "markdown",
   "metadata": {},
   "source": [
    "### Ejercicio 28\n",
    "`[(p v ¬q) -> (p -> q)] -> [(¬p -> q) v ¬p] v ¬p`"
   ]
  },
  {
   "cell_type": "code",
   "execution_count": 91,
   "metadata": {},
   "outputs": [
    {
     "name": "stdout",
     "output_type": "stream",
     "text": [
      "+-----+-----+--------------------------------------------------------------------------+\n",
      "|  p  |  q  |  ((p or ~q) implies (p implies q)) implies ((~p implies q) or ~p) or ~p  |\n",
      "|-----+-----+--------------------------------------------------------------------------|\n",
      "|  1  |  1  |                                    1                                     |\n",
      "|  1  |  0  |                                    1                                     |\n",
      "|  0  |  1  |                                    1                                     |\n",
      "|  0  |  0  |                                    1                                     |\n",
      "+-----+-----+--------------------------------------------------------------------------+\n",
      "La siguiente tabla es: Tautología\n"
     ]
    }
   ],
   "source": [
    "truth_table = ttg.Truths(['p', 'q'], [\"((p or ~q) implies (p implies q)) implies ((~p implies q) or ~p) or ~p\"])\n",
    "evaluacion = traduccion(truth_table.valuation())\n",
    "print(f\"{truth_table}\\nLa siguiente tabla es: {evaluacion}\")"
   ]
  },
  {
   "cell_type": "markdown",
   "metadata": {},
   "source": [
    "### Ejercicio 29\n",
    "`[¬(p v q) v (p -> q)] -> [(¬p -> q) v ¬p]`"
   ]
  },
  {
   "cell_type": "code",
   "execution_count": 92,
   "metadata": {},
   "outputs": [
    {
     "name": "stdout",
     "output_type": "stream",
     "text": [
      "+-----+-----+---------------------------------------------------------------------+\n",
      "|  p  |  q  |  ((~(p or q)) or (p implies q)) implies (((~p) implies q) or (~p))  |\n",
      "|-----+-----+---------------------------------------------------------------------|\n",
      "|  1  |  1  |                                  1                                  |\n",
      "|  1  |  0  |                                  1                                  |\n",
      "|  0  |  1  |                                  1                                  |\n",
      "|  0  |  0  |                                  1                                  |\n",
      "+-----+-----+---------------------------------------------------------------------+\n",
      "La siguiente tabla es: Tautología\n"
     ]
    }
   ],
   "source": [
    "truth_table = ttg.Truths(['p', 'q'], [\"((~(p or q)) or (p implies q)) implies (((~p) implies q) or (~p))\"])\n",
    "evaluacion = traduccion(truth_table.valuation())\n",
    "print(f\"{truth_table}\\nLa siguiente tabla es: {evaluacion}\")"
   ]
  },
  {
   "cell_type": "markdown",
   "metadata": {},
   "source": [
    "### Ejercicio 30\n",
    "`(p -> q) ^ (q -> r) -> (p ^ r)`"
   ]
  },
  {
   "cell_type": "code",
   "execution_count": 93,
   "metadata": {},
   "outputs": [
    {
     "name": "stdout",
     "output_type": "stream",
     "text": [
      "+-----+-----+-----+-----------------------------------------------------+\n",
      "|  p  |  q  |  r  |  (p implies q) and (q implies r) implies (p and r)  |\n",
      "|-----+-----+-----+-----------------------------------------------------|\n",
      "|  1  |  1  |  1  |                          1                          |\n",
      "|  1  |  1  |  0  |                          1                          |\n",
      "|  1  |  0  |  1  |                          1                          |\n",
      "|  1  |  0  |  0  |                          1                          |\n",
      "|  0  |  1  |  1  |                          0                          |\n",
      "|  0  |  1  |  0  |                          1                          |\n",
      "|  0  |  0  |  1  |                          0                          |\n",
      "|  0  |  0  |  0  |                          0                          |\n",
      "+-----+-----+-----+-----------------------------------------------------+\n",
      "La siguiente tabla es: Proposición empírica\n"
     ]
    }
   ],
   "source": [
    "truth_table = ttg.Truths(['p', 'q', 'r'], [\"(p implies q) and (q implies r) implies (p and r)\"])\n",
    "evaluacion = traduccion(truth_table.valuation())\n",
    "print(f\"{truth_table}\\nLa siguiente tabla es: {evaluacion}\")"
   ]
  },
  {
   "cell_type": "markdown",
   "metadata": {},
   "source": [
    "### Ejercicio 31\n",
    "`(p ^ q -> r) -> (p v r)`"
   ]
  },
  {
   "cell_type": "code",
   "execution_count": 94,
   "metadata": {},
   "outputs": [
    {
     "name": "stdout",
     "output_type": "stream",
     "text": [
      "+-----+-----+-----+----------------------------------------+\n",
      "|  p  |  q  |  r  |  (p and q implies r) implies (p or r)  |\n",
      "|-----+-----+-----+----------------------------------------|\n",
      "|  1  |  1  |  1  |                   1                    |\n",
      "|  1  |  1  |  0  |                   1                    |\n",
      "|  1  |  0  |  1  |                   1                    |\n",
      "|  1  |  0  |  0  |                   1                    |\n",
      "|  0  |  1  |  1  |                   1                    |\n",
      "|  0  |  1  |  0  |                   1                    |\n",
      "|  0  |  0  |  1  |                   1                    |\n",
      "|  0  |  0  |  0  |                   1                    |\n",
      "+-----+-----+-----+----------------------------------------+\n",
      "La siguiente tabla es: Tautología\n"
     ]
    }
   ],
   "source": [
    "truth_table = ttg.Truths(['p', 'q', 'r'], [\"(p and q implies r) implies (p or r)\"])\n",
    "evaluacion = traduccion(truth_table.valuation())\n",
    "print(f\"{truth_table}\\nLa siguiente tabla es: {evaluacion}\")"
   ]
  }
 ],
 "metadata": {
  "kernelspec": {
   "display_name": "Python 3",
   "language": "python",
   "name": "python3"
  },
  "language_info": {
   "codemirror_mode": {
    "name": "ipython",
    "version": 3
   },
   "file_extension": ".py",
   "mimetype": "text/x-python",
   "name": "python",
   "nbconvert_exporter": "python",
   "pygments_lexer": "ipython3",
   "version": "3.9.6"
  },
  "orig_nbformat": 4
 },
 "nbformat": 4,
 "nbformat_minor": 2
}
