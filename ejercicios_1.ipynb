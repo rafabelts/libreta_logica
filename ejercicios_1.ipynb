{
 "cells": [
  {
   "cell_type": "markdown",
   "metadata": {},
   "source": [
    "# Tablas de verdad, indicando si es contradicción, tautología o proposición empírica"
   ]
  },
  {
   "cell_type": "code",
   "execution_count": 6,
   "metadata": {},
   "outputs": [],
   "source": [
    "import ttg\n",
    "\n",
    "def evaluacion(table):\n",
    "    valuation = table.valuation();\n",
    "\n",
    "    if valuation == \"Contingency\":\n",
    "        return \"Contingencia\"\n",
    "    elif valuation == \"Tautology\":\n",
    "        return \"Tautología\"\n",
    "    elif valuation == \"Contradiction\":\n",
    "        return \"Contradicción\"\n",
    "    else:\n",
    "        return \"Satisfacible\""
   ]
  },
  {
   "cell_type": "markdown",
   "metadata": {},
   "source": [
    "### Ejercicio 1:"
   ]
  },
  {
   "cell_type": "code",
   "execution_count": 7,
   "metadata": {},
   "outputs": [
    {
     "name": "stdout",
     "output_type": "stream",
     "text": [
      "+-----+-----+-----------+\n",
      "|  p  |  q  |  p and q  |\n",
      "|-----+-----+-----------|\n",
      "|  1  |  1  |     1     |\n",
      "|  1  |  0  |     0     |\n",
      "|  0  |  1  |     0     |\n",
      "|  0  |  0  |     0     |\n",
      "+-----+-----+-----------+\n",
      "La siguiente tabla es: Contingencia\n"
     ]
    }
   ],
   "source": [
    "truth_table = ttg.Truths(['p', 'q'], ['p and q'])\n",
    "evaluacion = evaluacion(truth_table);\n",
    "print(truth_table)\n",
    "print(f\"La siguiente tabla es: {evaluacion}\")\n"
   ]
  }
 ],
 "metadata": {
  "kernelspec": {
   "display_name": "Python 3",
   "language": "python",
   "name": "python3"
  },
  "language_info": {
   "codemirror_mode": {
    "name": "ipython",
    "version": 3
   },
   "file_extension": ".py",
   "mimetype": "text/x-python",
   "name": "python",
   "nbconvert_exporter": "python",
   "pygments_lexer": "ipython3",
   "version": "3.9.6"
  },
  "orig_nbformat": 4
 },
 "nbformat": 4,
 "nbformat_minor": 2
}
