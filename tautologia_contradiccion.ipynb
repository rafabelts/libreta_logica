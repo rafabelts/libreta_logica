{
 "cells": [
  {
   "cell_type": "markdown",
   "metadata": {},
   "source": [
    "# Tautología y contradicción\n",
    "\n",
    "\n",
    "### Tautología:\n",
    "Proposición cuyo valor es siempre verdadero para todos los posibles valores de verdad de las proposiciones simples que la componen.\n",
    "\n",
    "![tautología](data:image/png;base64,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)\n",
    "\n",
    "### Contradicción\n",
    "Forma de enunciado que siempre es falso, independientemente de los valores de verdad de los enunciados individuales o de los enunciados variables sustituidos.\n",
    "\n",
    "![Contradicción](data:image/png;base64,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)"
   ]
  },
  {
   "cell_type": "markdown",
   "metadata": {},
   "source": [
    "----\n",
    "## Verificación con librería truth-table-generator\n",
    "Con la librería truth-table-generator podemos evaluar si una proposición es una tautología o contradicción, se realiza de la siguiente manera:"
   ]
  },
  {
   "cell_type": "code",
   "execution_count": 5,
   "metadata": {},
   "outputs": [],
   "source": [
    "import ttg"
   ]
  },
  {
   "cell_type": "code",
   "execution_count": 6,
   "metadata": {},
   "outputs": [
    {
     "name": "stdout",
     "output_type": "stream",
     "text": [
      "Tautology\n"
     ]
    }
   ],
   "source": [
    "table = ttg.Truths(['p', 'q'], ['(p and q) or (~p or (p and ~q))'])\n",
    "print(table.valuation())"
   ]
  },
  {
   "cell_type": "code",
   "execution_count": 7,
   "metadata": {},
   "outputs": [
    {
     "name": "stdout",
     "output_type": "stream",
     "text": [
      "Contradiction\n"
     ]
    }
   ],
   "source": [
    "table = ttg.Truths(['p', 'q'], ['(p and ~q) and (~p or q)'])\n",
    "print(table.valuation())"
   ]
  },
  {
   "cell_type": "code",
   "execution_count": 11,
   "metadata": {},
   "outputs": [
    {
     "ename": "ParseException",
     "evalue": "Expected nested () expression, found '+'  (at char 1), (line:1, col:2)",
     "output_type": "error",
     "traceback": [
      "\u001b[0;31m---------------------------------------------------------------------------\u001b[0m",
      "\u001b[0;31mParseException\u001b[0m                            Traceback (most recent call last)",
      "\u001b[1;32m/Users/rafabelts/Desktop/python/logica/tautologia_contradiccion.ipynb Cell 6\u001b[0m line \u001b[0;36m6\n\u001b[1;32m      <a href='vscode-notebook-cell:/Users/rafabelts/Desktop/python/logica/tautologia_contradiccion.ipynb#W5sZmlsZQ%3D%3D?line=1'>2</a>\u001b[0m segunda_disyuncion \u001b[39m=\u001b[39m ttg\u001b[39m.\u001b[39mTruths([\u001b[39m'\u001b[39m\u001b[39mp\u001b[39m\u001b[39m'\u001b[39m, \u001b[39m'\u001b[39m\u001b[39mq\u001b[39m\u001b[39m'\u001b[39m], [\u001b[39m'\u001b[39m\u001b[39m~p or q\u001b[39m\u001b[39m'\u001b[39m])\n\u001b[1;32m      <a href='vscode-notebook-cell:/Users/rafabelts/Desktop/python/logica/tautologia_contradiccion.ipynb#W5sZmlsZQ%3D%3D?line=3'>4</a>\u001b[0m conjuncion_final \u001b[39m=\u001b[39m ttg\u001b[39m.\u001b[39mTruths([\u001b[39m'\u001b[39m\u001b[39mp and q\u001b[39m\u001b[39m'\u001b[39m], [\u001b[39mf\u001b[39m\u001b[39m'\u001b[39m\u001b[39m{\u001b[39;00mprimera_conjuncion\u001b[39m}\u001b[39;00m\u001b[39m'\u001b[39m, \u001b[39mf\u001b[39m\u001b[39m'\u001b[39m\u001b[39m{\u001b[39;00msegunda_disyuncion\u001b[39m}\u001b[39;00m\u001b[39m'\u001b[39m])\n\u001b[0;32m----> <a href='vscode-notebook-cell:/Users/rafabelts/Desktop/python/logica/tautologia_contradiccion.ipynb#W5sZmlsZQ%3D%3D?line=5'>6</a>\u001b[0m \u001b[39mprint\u001b[39;49m(conjuncion_final)\n",
      "File \u001b[0;32m~/Library/Python/3.9/lib/python/site-packages/ttg/ttg.py:253\u001b[0m, in \u001b[0;36mTruths.__str__\u001b[0;34m(self)\u001b[0m\n\u001b[1;32m    252\u001b[0m \u001b[39mdef\u001b[39;00m \u001b[39m__str__\u001b[39m(\u001b[39mself\u001b[39m):\n\u001b[0;32m--> 253\u001b[0m     table \u001b[39m=\u001b[39m Truths\u001b[39m.\u001b[39;49mas_tabulate(\u001b[39mself\u001b[39;49m, index\u001b[39m=\u001b[39;49m\u001b[39mFalse\u001b[39;49;00m)\n\u001b[1;32m    254\u001b[0m     \u001b[39mreturn\u001b[39;00m \u001b[39mstr\u001b[39m(table)\n",
      "File \u001b[0;32m~/Library/Python/3.9/lib/python/site-packages/ttg/ttg.py:224\u001b[0m, in \u001b[0;36mTruths.as_tabulate\u001b[0;34m(self, index, table_format, align)\u001b[0m\n\u001b[1;32m    220\u001b[0m \u001b[39mdef\u001b[39;00m \u001b[39mas_tabulate\u001b[39m(\u001b[39mself\u001b[39m, index\u001b[39m=\u001b[39m\u001b[39mTrue\u001b[39;00m, table_format\u001b[39m=\u001b[39m\u001b[39m'\u001b[39m\u001b[39mpsql\u001b[39m\u001b[39m'\u001b[39m, align\u001b[39m=\u001b[39m\u001b[39m'\u001b[39m\u001b[39mcenter\u001b[39m\u001b[39m'\u001b[39m):\n\u001b[1;32m    221\u001b[0m \u001b[39m    \u001b[39m\u001b[39m\"\"\"\u001b[39;00m\n\u001b[1;32m    222\u001b[0m \u001b[39m    Returns table using tabulate package\u001b[39;00m\n\u001b[1;32m    223\u001b[0m \u001b[39m    \"\"\"\u001b[39;00m\n\u001b[0;32m--> 224\u001b[0m     table \u001b[39m=\u001b[39m tabulate(Truths\u001b[39m.\u001b[39;49mas_pandas(\u001b[39mself\u001b[39;49m),\n\u001b[1;32m    225\u001b[0m                      headers\u001b[39m=\u001b[39m\u001b[39m'\u001b[39m\u001b[39mkeys\u001b[39m\u001b[39m'\u001b[39m,\n\u001b[1;32m    226\u001b[0m                      tablefmt\u001b[39m=\u001b[39mtable_format,\n\u001b[1;32m    227\u001b[0m                      showindex\u001b[39m=\u001b[39mindex,\n\u001b[1;32m    228\u001b[0m                      colalign\u001b[39m=\u001b[39m[align] \u001b[39m*\u001b[39m (\u001b[39mlen\u001b[39m(Truths\u001b[39m.\u001b[39mas_pandas(\u001b[39mself\u001b[39m)\u001b[39m.\u001b[39mcolumns) \u001b[39m+\u001b[39m index)  \u001b[39m# NOQA long\u001b[39;00m\n\u001b[1;32m    229\u001b[0m                      )\n\u001b[1;32m    230\u001b[0m     \u001b[39mreturn\u001b[39;00m table\n",
      "File \u001b[0;32m~/Library/Python/3.9/lib/python/site-packages/ttg/ttg.py:216\u001b[0m, in \u001b[0;36mTruths.as_pandas\u001b[0;34m(self)\u001b[0m\n\u001b[1;32m    214\u001b[0m df \u001b[39m=\u001b[39m pd\u001b[39m.\u001b[39mDataFrame(columns\u001b[39m=\u001b[39mdf_columns)\n\u001b[1;32m    215\u001b[0m \u001b[39mfor\u001b[39;00m conditions_set \u001b[39min\u001b[39;00m \u001b[39mself\u001b[39m\u001b[39m.\u001b[39mbase_conditions:\n\u001b[0;32m--> 216\u001b[0m     df\u001b[39m.\u001b[39mloc[\u001b[39mlen\u001b[39m(df)] \u001b[39m=\u001b[39m \u001b[39mself\u001b[39;49m\u001b[39m.\u001b[39;49mcalculate(\u001b[39m*\u001b[39;49mconditions_set)\n\u001b[1;32m    217\u001b[0m df\u001b[39m.\u001b[39mindex \u001b[39m=\u001b[39m np\u001b[39m.\u001b[39marange(\u001b[39m1\u001b[39m, \u001b[39mlen\u001b[39m(df) \u001b[39m+\u001b[39m \u001b[39m1\u001b[39m)  \u001b[39m# index starting in one\u001b[39;00m\n\u001b[1;32m    218\u001b[0m \u001b[39mreturn\u001b[39;00m df\n",
      "File \u001b[0;32m~/Library/Python/3.9/lib/python/site-packages/ttg/ttg.py:185\u001b[0m, in \u001b[0;36mTruths.calculate\u001b[0;34m(self, *args)\u001b[0m\n\u001b[1;32m    183\u001b[0m phrase \u001b[39m=\u001b[39m \u001b[39m'\u001b[39m\u001b[39m(\u001b[39m\u001b[39m'\u001b[39m \u001b[39m+\u001b[39m phrase \u001b[39m+\u001b[39m \u001b[39m'\u001b[39m\u001b[39m)\u001b[39m\u001b[39m'\u001b[39m\n\u001b[1;32m    184\u001b[0m \u001b[39m# parse the expression using pyparsing\u001b[39;00m\n\u001b[0;32m--> 185\u001b[0m interpreted \u001b[39m=\u001b[39m \u001b[39mself\u001b[39;49m\u001b[39m.\u001b[39;49mparens\u001b[39m.\u001b[39;49mparseString(phrase)\u001b[39m.\u001b[39masList()[\u001b[39m0\u001b[39m]\n\u001b[1;32m    186\u001b[0m \u001b[39m# convert any 'True' or 'False' to boolean values\u001b[39;00m\n\u001b[1;32m    187\u001b[0m interpreted \u001b[39m=\u001b[39m recursive_map(string_to_bool, interpreted)\n",
      "File \u001b[0;32m~/Library/Python/3.9/lib/python/site-packages/pyparsing/util.py:256\u001b[0m, in \u001b[0;36m_make_synonym_function.<locals>._inner\u001b[0;34m(self, *args, **kwargs)\u001b[0m\n\u001b[1;32m    251\u001b[0m \u001b[39m@wraps\u001b[39m(fn)\n\u001b[1;32m    252\u001b[0m \u001b[39mdef\u001b[39;00m \u001b[39m_inner\u001b[39m(\u001b[39mself\u001b[39m, \u001b[39m*\u001b[39margs, \u001b[39m*\u001b[39m\u001b[39m*\u001b[39mkwargs):\n\u001b[1;32m    253\u001b[0m     \u001b[39m# warnings.warn(\u001b[39;00m\n\u001b[1;32m    254\u001b[0m     \u001b[39m#     f\"Deprecated - use {fn.__name__}\", DeprecationWarning, stacklevel=3\u001b[39;00m\n\u001b[1;32m    255\u001b[0m     \u001b[39m# )\u001b[39;00m\n\u001b[0;32m--> 256\u001b[0m     \u001b[39mreturn\u001b[39;00m fn(\u001b[39mself\u001b[39;49m, \u001b[39m*\u001b[39;49margs, \u001b[39m*\u001b[39;49m\u001b[39m*\u001b[39;49mkwargs)\n",
      "File \u001b[0;32m~/Library/Python/3.9/lib/python/site-packages/pyparsing/core.py:1197\u001b[0m, in \u001b[0;36mParserElement.parse_string\u001b[0;34m(self, instring, parse_all, parseAll)\u001b[0m\n\u001b[1;32m   1194\u001b[0m         \u001b[39mraise\u001b[39;00m\n\u001b[1;32m   1195\u001b[0m     \u001b[39melse\u001b[39;00m:\n\u001b[1;32m   1196\u001b[0m         \u001b[39m# catch and re-raise exception from here, clearing out pyparsing internal stack trace\u001b[39;00m\n\u001b[0;32m-> 1197\u001b[0m         \u001b[39mraise\u001b[39;00m exc\u001b[39m.\u001b[39mwith_traceback(\u001b[39mNone\u001b[39;00m)\n\u001b[1;32m   1198\u001b[0m \u001b[39melse\u001b[39;00m:\n\u001b[1;32m   1199\u001b[0m     \u001b[39mreturn\u001b[39;00m tokens\n",
      "\u001b[0;31mParseException\u001b[0m: Expected nested () expression, found '+'  (at char 1), (line:1, col:2)"
     ]
    }
   ],
   "source": [
    "# primera_conjuncion = ttg.Truths(['p', 'q'], ['p and ~q'])\n",
    "# segunda_disyuncion = ttg.Truths(['p', 'q'], ['~p or q'])\n",
    "\n",
    "# conjuncion_final = ttg.Truths(['p and q'], [f'{primera_conjuncion}', f'{segunda_disyuncion}'])\n",
    "\n",
    "# print(conjuncion_final)"
   ]
  }
 ],
 "metadata": {
  "kernelspec": {
   "display_name": "Python 3",
   "language": "python",
   "name": "python3"
  },
  "language_info": {
   "codemirror_mode": {
    "name": "ipython",
    "version": 3
   },
   "file_extension": ".py",
   "mimetype": "text/x-python",
   "name": "python",
   "nbconvert_exporter": "python",
   "pygments_lexer": "ipython3",
   "version": "3.9.6"
  },
  "orig_nbformat": 4
 },
 "nbformat": 4,
 "nbformat_minor": 2
}
