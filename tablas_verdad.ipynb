{
 "cells": [
  {
   "cell_type": "markdown",
   "metadata": {},
   "source": [
    "# Tablas de verdad \n",
    "\n",
    "Las tablas de verdad son herramientas representadas a través de varios gráficos de filas y columnas que muestran todos los posibles escenarios y condiciones de valores de entrada para una operación lógica y su resultado correspondiente.\n",
    "Su función base es mostrar cómo funcionan un circuito electrónico y los programas de una computadora, siendo también un pilar de la lógica proposicional.\n",
    "\n",
    "\n",
    "La tabla de verdad fue inventada por Charles Peirce en los años 1880, pero el formato más usado es el de Ludwig Wittgenstein, quién lo desarrolló en el \"Tractatus logico-philosophicus\", que fue dado a conocer al público en 1918 por Bertrand Russell.\n",
    "\n",
    "Recoge todas las combinaciones posibles de una serie de variables, así como el resultado de una cierta operación entre ellas. Las reglas de la tabla de verdad que sirven para validar o invalidar razonamientos:\n",
    "\n",
    "![Tablas](https://tomi-digital-resources.storage.googleapis.com/images/classes/resources/rsc-352766-5f63917ae437f.jpeg)"
   ]
  },
  {
   "cell_type": "markdown",
   "metadata": {},
   "source": [
    "## Tablas de verdad en python\n",
    "En python existen muchas bibliotecas con diferentes funcionalidades, casi para todo. Para el caso de las tablas de verdad, existe la librería [truth-table-generator](https://pypi.org/project/truth-table-generator/), conocida como ttg.\n",
    "\n",
    "Para la instalación ejecutamos el siguiente comando en nuestra terminal: \n",
    "```bash\n",
    "pip install truth-table-generator\n",
    "```\n",
    "\n",
    "Para empezar a utilizar la librería, en nuestro código escribimos el siguiente comando:"
   ]
  },
  {
   "cell_type": "code",
   "execution_count": null,
   "metadata": {},
   "outputs": [],
   "source": [
    "import ttg # Importamos nuestra libreria de tablas de verdad"
   ]
  },
  {
   "cell_type": "markdown",
   "metadata": {},
   "source": [
    "Una tabla de verdad tiene una columna para cada variable de entrada (por ejemplo, p y q), y una columna final que muestra todos los resultados posibles de la operación lógica que representa la tabla. Por ejemplo, si tenemos dos proposiciones, debemos escribir el siguiente código: "
   ]
  },
  {
   "cell_type": "code",
   "execution_count": null,
   "metadata": {},
   "outputs": [],
   "source": [
    "tabla_verdad = ttg.Truths(['p', 'q'])  # Generamos nuestra tabla de verdad\n",
    "print(f'{tabla_verdad} \\n') # La imprimimos"
   ]
  },
  {
   "cell_type": "markdown",
   "metadata": {},
   "source": [
    "De igual forma podemos crear tablas con 3 o más proposiciones, por ejemplo:"
   ]
  },
  {
   "cell_type": "code",
   "execution_count": null,
   "metadata": {},
   "outputs": [],
   "source": [
    "tabla_verdad_3_proposiciones = ttg.Truths(['p', 'q', 'r'], ['p and q'])\n",
    "print(f'{tabla_verdad_3_proposiciones}\\n')\n",
    "\n",
    "tabla_verdad_4_proposiciones = ttg.Truths(['p', 'q', 'r', 'w'])\n",
    "print(f'{tabla_verdad_4_proposiciones}\\n')"
   ]
  },
  {
   "cell_type": "markdown",
   "metadata": {},
   "source": [
    "----\n",
    "## Operadores\n",
    "\n",
    "- Negacion: `'not'`, `'-'`, `'~'`"
   ]
  },
  {
   "cell_type": "code",
   "execution_count": null,
   "metadata": {},
   "outputs": [],
   "source": [
    "tabla_negacion = ttg.Truths(['p'], ['not p', '-p', '~p'])\n",
    "print(f'{tabla_negacion}\\n')"
   ]
  },
  {
   "cell_type": "markdown",
   "metadata": {},
   "source": [
    "- Conjuncion: `'and'`"
   ]
  },
  {
   "cell_type": "code",
   "execution_count": null,
   "metadata": {},
   "outputs": [],
   "source": [
    "tabla_conjuncion = ttg.Truths(['p', 'q'], ['p and q'])\n",
    "print(f'{tabla_conjuncion}\\n')"
   ]
  },
  {
   "cell_type": "markdown",
   "metadata": {},
   "source": [
    "- Disyuncion: `'or'`"
   ]
  },
  {
   "cell_type": "code",
   "execution_count": null,
   "metadata": {},
   "outputs": [],
   "source": [
    "tabla_disyuncion = ttg.Truths(['p', 'q'], ['p or q'])\n",
    "print(f'{tabla_disyuncion}\\n')"
   ]
  },
  {
   "cell_type": "markdown",
   "metadata": {},
   "source": [
    "- Disyuncion exclusiva: `'xor'`, `'!='`"
   ]
  },
  {
   "cell_type": "code",
   "execution_count": null,
   "metadata": {},
   "outputs": [],
   "source": [
    "tabla_disyuncion_exclusiva = ttg.Truths(['p', 'q'], ['p xor q', 'p != q'])\n",
    "print(f'{tabla_disyuncion_exclusiva}\\n')"
   ]
  },
  {
   "cell_type": "markdown",
   "metadata": {},
   "source": [
    "- Condicional: `'=>'`, `'implies'`"
   ]
  },
  {
   "cell_type": "code",
   "execution_count": null,
   "metadata": {},
   "outputs": [],
   "source": [
    "tabla_condicional = ttg.Truths(['p', 'q'], ['p => q', 'p implies q'])\n",
    "print(f'{tabla_condicional}\\n')"
   ]
  },
  {
   "cell_type": "markdown",
   "metadata": {},
   "source": [
    "- Bicondicional: `'='`"
   ]
  },
  {
   "cell_type": "code",
   "execution_count": null,
   "metadata": {},
   "outputs": [],
   "source": [
    "tabla_bicondicional = ttg.Truths(['p', 'q'], ['p = q'])\n",
    "print(f'{tabla_bicondicional}\\n')"
   ]
  },
  {
   "cell_type": "markdown",
   "metadata": {},
   "source": [
    "#### Operadores extra\n",
    "De igual forma la librería cuenta con los operadores:\n",
    "- Nor: `'nor'`\n",
    "> NOR es la negacion de las salidas del operador OR."
   ]
  },
  {
   "cell_type": "code",
   "execution_count": 6,
   "metadata": {},
   "outputs": [
    {
     "name": "stdout",
     "output_type": "stream",
     "text": [
      "+-----+-----+-----------+\n",
      "|  p  |  q  |  p nor q  |\n",
      "|-----+-----+-----------|\n",
      "|  1  |  1  |     0     |\n",
      "|  1  |  0  |     0     |\n",
      "|  0  |  1  |     0     |\n",
      "|  0  |  0  |     1     |\n",
      "+-----+-----+-----------+\n",
      "\n"
     ]
    }
   ],
   "source": [
    "tabla_nor = ttg.Truths(['p', 'q'], ['p nor q'])\n",
    "print(f'{tabla_nor}\\n')"
   ]
  },
  {
   "cell_type": "markdown",
   "metadata": {},
   "source": [
    "- NAND: `'nand'`\n",
    "> NAND es la negacion de las salidas del operador AND."
   ]
  },
  {
   "cell_type": "code",
   "execution_count": null,
   "metadata": {},
   "outputs": [],
   "source": [
    "tabla_nand = ttg.Truths(['p', 'q'], ['p nand q'])\n",
    "print(f'{tabla_nand}\\n')"
   ]
  },
  {
   "cell_type": "markdown",
   "metadata": {},
   "source": [
    "----\n",
    "### Precedencia o jerarquía de los operadores\n",
    "Cuando se escriben sin paréntesis, la precedencia de ellos es la siguiente:\n",
    "1. Negacion: `'not'`, `'-'`, `'~'`\n",
    "2. Conjuncion: `'and'`\n",
    "3. Disyuncion: `'or'`\n",
    "4. Disyuncion exclusiva: `'xor'`, `'!='`\n",
    "5. Condicional: `'=>'`, `'implies'`\n",
    "6. Bicondicional: `'='`\n",
    "\n",
    "---"
   ]
  }
 ],
 "metadata": {
  "kernelspec": {
   "display_name": "Python 3 (ipykernel)",
   "language": "python",
   "name": "python3"
  },
  "language_info": {
   "codemirror_mode": {
    "name": "ipython",
    "version": 3
   },
   "file_extension": ".py",
   "mimetype": "text/x-python",
   "name": "python",
   "nbconvert_exporter": "python",
   "pygments_lexer": "ipython3",
   "version": "3.9.6"
  }
 },
 "nbformat": 4,
 "nbformat_minor": 4
}
